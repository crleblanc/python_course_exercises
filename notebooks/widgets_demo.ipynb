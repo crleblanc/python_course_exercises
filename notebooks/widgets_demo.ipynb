{
 "cells": [
  {
   "cell_type": "markdown",
   "metadata": {
    "collapsed": false
   },
   "source": [
    "# Interactive Jupyter notebooks\n",
    "* Let you create simple and interactive graphics\n",
    "* Use with caution, they're virtually useless outside of Jupyter.  Not great for command line or headless programs."
   ]
  },
  {
   "cell_type": "code",
   "execution_count": 1,
   "metadata": {
    "collapsed": false
   },
   "outputs": [
    {
     "data": {
      "text/plain": [
       "0"
      ]
     },
     "metadata": {},
     "output_type": "display_data"
    }
   ],
   "source": [
    "from __future__ import print_function\n",
    "from ipywidgets import interact, interactive, fixed\n",
    "import ipywidgets as widgets\n",
    "\n",
    "\n",
    "def f(x):\n",
    "    return x\n",
    "\n",
    "interact(f, x=widgets.IntSlider(min=-10,max=30,step=1,value=10));"
   ]
  },
  {
   "cell_type": "markdown",
   "metadata": {},
   "source": [
    "## Using interact() to get an interactive plot.  It's a bit slow here, but should be fast when running Jupyter on your local machine"
   ]
  },
  {
   "cell_type": "code",
   "execution_count": 2,
   "metadata": {
    "collapsed": false
   },
   "outputs": [
    {
     "data": {
      "text/plain": [
       "<function __main__.sinewave>"
      ]
     },
     "execution_count": 2,
     "metadata": {},
     "output_type": "execute_result"
    },
    {
     "data": {
      "image/png": "[encoded data removed]",
      "text/plain": [
       "<matplotlib.figure.Figure at 0x7fdd6764bd68>"
      ]
     },
     "metadata": {},
     "output_type": "display_data"
    }
   ],
   "source": [
    "import numpy as np\n",
    "import matplotlib.pyplot as plt\n",
    "from matplotlib import rcParams; rcParams['figure.figsize'] = (5.0, 5.0)\n",
    "\n",
    "def sinewave(freq=1.0):\n",
    "    x = np.linspace(0., 360., 91, endpoint=True)  # Generate uniformly spaced 1-d array\n",
    "    y = np.sin(freq*x*np.pi/180.)                      # Compute sin(x)\n",
    "    plt.plot(x, y, \"--r\", linewidth=2.5)\n",
    "\n",
    "    plt.xlim(0, 360.)      # Set X-axis limits\n",
    "    plt.ylim(-1.5, 1.5)    # Set Y-axis limits\n",
    "\n",
    "interact(sinewave, freq=(0.0, 4.0))"
   ]
  },
  {
   "cell_type": "markdown",
   "metadata": {},
   "source": [
    "## Lets bring an old demo back using these tricks, the quakesearch demo.\n",
    "* use sliders for min/max magnitude.  Start/end dates would be more work (custom widgets).\n",
    "* the slow plotting operation makes for sluggish response.  There are much faster alternatives to matplotlib/Basemap."
   ]
  },
  {
   "cell_type": "code",
   "execution_count": 13,
   "metadata": {
    "collapsed": false
   },
   "outputs": [],
   "source": [
    "from __future__ import print_function\n",
    "import requests\n",
    "import json\n",
    "from datetime import datetime\n",
    "from mpl_toolkits.basemap import Basemap\n",
    "import matplotlib.pyplot as plt\n",
    "from matplotlib import rcParams\n",
    "from ipywidgets import interact, interactive, fixed\n",
    "import ipywidgets as widgets\n",
    "\n",
    "def quakes(params, url='http://quakesearch.geonet.org.nz/services/1.0.0/geojson'):\n",
    "\n",
    "    r = requests.get(url, params=params)\n",
    "    r.raise_for_status()\n",
    "\n",
    "    return r.json()\n",
    "\n",
    "def display_map(quakedata):\n",
    "    # set fig size for Jupyter notebook\n",
    "    rcParams['figure.figsize'] = (40.0, 20.0)\n",
    "    \n",
    "    # setup Lambert Conformal basemap.\n",
    "    m = Basemap(projection='lcc',\n",
    "                resolution='i',\n",
    "                lat_0=-41., lon_0=174.,\n",
    "                llcrnrlon=165., llcrnrlat=-47.5,\n",
    "                urcrnrlon=179., urcrnrlat=-34.)\n",
    "\n",
    "    # unfortunately this is a slow operation\n",
    "    m.drawcoastlines()\n",
    "    \n",
    "    # draw all earthquakes, size of circle corresponds to magnitude of quake\n",
    "    quake_lats = []\n",
    "    quake_lons = []\n",
    "    quake_mags = []\n",
    "    for feature in quakedata['features']:\n",
    "        #print(feature['properties']['publicid'], feature['geometry']['coordinates'])\n",
    "        # we want to plot a point for latitude and longitude which are in the properties dict\n",
    "        properties = feature['properties']\n",
    "        quake_lats.append(float(properties['latitude']))\n",
    "        quake_lons.append(float(properties['longitude']))\n",
    "        quake_mags.append(float(properties['magnitude'])*40)\n",
    "\n",
    "    x, y = m(quake_lons, quake_lats)\n",
    "    m.scatter(x, y, quake_mags, marker='o', color='r')\n",
    "    plt.show()\n",
    "\n",
    "def plot_quake(minmag=0, maxmag=10, mindepth=0, maxdepth=500):\n",
    "\n",
    "    # construct params.\n",
    "    # All options: [GET] /csv?bbox=(bbox)&minmag=(minmag)&maxmag=(maxmag)&mindepth=(mindepth)&maxdepth=(maxdepth)&startdate=(startdate)&enddate=(enddate)\n",
    "    params = {'bbox': [165.0, -47.5, 179.0, -34.0],\n",
    "              'startdate': datetime(2016, 1, 1, 0, 0, 0),\n",
    "              'enddate': datetime(2016, 4, 8, 15, 0, 0),\n",
    "              'minmag':minmag,\n",
    "              'maxmag':maxmag,\n",
    "              'mindepth':mindepth,\n",
    "              'maxdepth':maxdepth}\n",
    "\n",
    "    # get the data from the REST API\n",
    "    quakedata = quakes(params)\n",
    "\n",
    "    # iterate over the data (a pretty complex dict)\n",
    "    #for feature in quakedata['features']:\n",
    "    #    print(feature['properties']['publicid'], feature['geometry']['coordinates'])\n",
    "\n",
    "    display_map(quakedata)\n",
    "\n",
    "interact(plot_quake, minmag=(0.0,10.0), maxmag=(0.0,10.0), mindepth=(0, 500), maxdepth=(0,500));\n"
   ]
  }
 ],
 "metadata": {
  "kernelspec": {
   "display_name": "Anaconda (Python 3)",
   "language": "python",
   "name": "anaconda3"
  },
  "language_info": {
   "codemirror_mode": {
    "name": "ipython",
    "version": 3
   },
   "file_extension": ".py",
   "mimetype": "text/x-python",
   "name": "python",
   "nbconvert_exporter": "python",
   "pygments_lexer": "ipython3",
   "version": "3.5.1"
  }
 },
 "nbformat": 4,
 "nbformat_minor": 0
}
