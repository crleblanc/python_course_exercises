{
 "cells": [
  {
   "cell_type": "markdown",
   "metadata": {
    "collapsed": false
   },
   "source": [
    "# Pure Python version\n",
    "* Simple code\n",
    "* Python isn't very good at \"tight loops\"\n",
    "* courtesy of http://nbviewer.jupyter.org/github/sanand0/ipython-notebooks/blob/master/Faster%20Data%20Processing%20in%20Python.ipynb"
   ]
  },
  {
   "cell_type": "code",
   "execution_count": 1,
   "metadata": {
    "collapsed": false
   },
   "outputs": [
    {
     "name": "stdout",
     "output_type": "stream",
     "text": [
      "10 loops, best of 3: 58.7 ms per loop\n"
     ]
    }
   ],
   "source": [
    "def total_python(n):\n",
    "    '''Calculate the sum of all numbers up to n'''\n",
    "    a = 0\n",
    "    i = 0\n",
    "    for i in range(n):\n",
    "        a += i\n",
    "    return a\n",
    "\n",
    "%timeit total_python(1000000)"
   ]
  },
  {
   "cell_type": "markdown",
   "metadata": {},
   "source": [
    "# Cython version\n",
    "* Needs a C compiler\n",
    "* We use Jupyter's magic to build it for us\n",
    "* Normal Python scripts will typically use a setup.py file to build a Cython module (eg: setup.py build_ext --inplace)\n",
    "* Excellent for interfacing with external C/C++ libs\n",
    "* Excellent NumPy support\n",
    "* The module works from normal Python, Cython not needed at runtime\n",
    "\n",
    "The following code is saved in total.pyx and compiled with setup.py.  There are problems running it directly from this notebook so we run it from the terminal:\n",
    "```python\n",
    "def total_cython(n):\n",
    "    '''Calculate the sum of all numbers up to n'''\n",
    "    cdef int a        # Declare the type of a as integer\n",
    "    cdef int i            # Declare the type of i as integer\n",
    "    for i in xrange(n):   # Now loop through all the numbers\n",
    "        a += i            # ... and add them\n",
    "    return a\n",
    "```\n",
    "\n",
    "## This module is build with the command:\n",
    "```bash\n",
    "python3 setup.py build_ext --inplace\n",
    "```\n",
    "\n",
    "## We can time it from an ipython3 REPL:\n",
    "```python\n",
    "In [7]: %timeit total.total_cython(1000000)\n",
    "1000 loops, best of 3: 321 µs per loop\n",
    "```"
   ]
  },
  {
   "cell_type": "markdown",
   "metadata": {},
   "source": [
    "# Numba version\n",
    "* Uses LLVM (also used by Rust, Julia, Swift, etc) to make a fast Python extension on the fly\n",
    "* Simpler and sometimes faster than Cython\n",
    "* Works well with NumPy arrays and tight loops\n",
    "* The jit needs to warm-up so the first run is usually slow\n",
    "* Needs Numba at runtime, can be painful to install unless using Anaconda (or the conda package manager)"
   ]
  },
  {
   "cell_type": "code",
   "execution_count": 5,
   "metadata": {
    "collapsed": false
   },
   "outputs": [
    {
     "name": "stdout",
     "output_type": "stream",
     "text": [
      "The slowest run took 272449.13 times longer than the fastest. This could mean that an intermediate result is being cached.\n",
      "1000000 loops, best of 3: 280 ns per loop\n"
     ]
    }
   ],
   "source": [
    "from numba import jit\n",
    "\n",
    "@jit\n",
    "def total_numba(n):\n",
    "    '''Calculate the sum of all numbers up to n'''\n",
    "    a = 0\n",
    "    i = 0\n",
    "    for i in range(n):\n",
    "        a += i\n",
    "    return a\n",
    "\n",
    "%timeit total_numba(1000000)"
   ]
  }
 ],
 "metadata": {
  "kernelspec": {
   "display_name": "Anaconda (Python 3)",
   "language": "python",
   "name": "anaconda3"
  },
  "language_info": {
   "codemirror_mode": {
    "name": "ipython",
    "version": 3
   },
   "file_extension": ".py",
   "mimetype": "text/x-python",
   "name": "python",
   "nbconvert_exporter": "python",
   "pygments_lexer": "ipython3",
   "version": "3.5.1"
  }
 },
 "nbformat": 4,
 "nbformat_minor": 0
}
