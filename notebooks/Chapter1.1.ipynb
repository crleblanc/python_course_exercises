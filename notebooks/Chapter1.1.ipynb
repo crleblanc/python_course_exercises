{
 "cells": [
  {
   "cell_type": "markdown",
   "metadata": {},
   "source": [
    "# Chapter 1.1 intro:\n",
    "* printing to the screen\n",
    "* builtin variable types\n",
    "\n",
    "## Start with a github checkout of course material\n",
    "run this command on a terminal:   git clone https://github.com/crleblanc/python_course_exercises"
   ]
  },
  {
   "cell_type": "code",
   "execution_count": 1,
   "metadata": {
    "collapsed": false
   },
   "outputs": [
    {
     "name": "stdout",
     "output_type": "stream",
     "text": [
      "hello world from Python3\n",
      "123 123.456 a string another string b'bytes string, not unicode' ['some text', 123] ('more text', 123.456) {'c', 'b', 'a'} {'key1': 'val1', 'key2': 'val2'}\n"
     ]
    }
   ],
   "source": [
    "print('hello world from Python3')\n",
    "\n",
    "an_int = 123\n",
    "a_float = 123.456\n",
    "a_string = 'a string'\n",
    "another_string = \"another string\"\n",
    "bytes_string = b'bytes string, not unicode'\n",
    "# containers, we'll cover these in more depth later\n",
    "a_list = ['some text', an_int]\n",
    "a_tuple = ('more text', a_float)\n",
    "a_set = {'a', 'b', 'c'}\n",
    "a_dict = {'key1':'val1', 'key2':'val2'}\n",
    "\n",
    "print(an_int, a_float, a_string, another_string, bytes_string, a_list, a_tuple, a_set, a_dict)"
   ]
  },
  {
   "cell_type": "markdown",
   "metadata": {},
   "source": [
    "## Mutability!\n",
    "Immutable variables cannot be modified after creation."
   ]
  },
  {
   "cell_type": "code",
   "execution_count": 2,
   "metadata": {
    "collapsed": false
   },
   "outputs": [
    {
     "name": "stdout",
     "output_type": "stream",
     "text": [
      "mylist is: [999, 2, 3]\n"
     ]
    },
    {
     "ename": "TypeError",
     "evalue": "'tuple' object does not support item assignment",
     "output_type": "error",
     "traceback": [
      "\u001b[1;31m\u001b[0m",
      "\u001b[1;31mTypeError\u001b[0mTraceback (most recent call last)",
      "\u001b[1;32m<ipython-input-2-96c1e7bd8e57>\u001b[0m in \u001b[0;36m<module>\u001b[1;34m()\u001b[0m\n\u001b[0;32m      6\u001b[0m \u001b[1;31m# tuples are immutable\u001b[0m\u001b[1;33m\u001b[0m\u001b[1;33m\u001b[0m\u001b[0m\n\u001b[0;32m      7\u001b[0m \u001b[0mmytuple\u001b[0m \u001b[1;33m=\u001b[0m \u001b[1;33m(\u001b[0m\u001b[1;36m1\u001b[0m\u001b[1;33m,\u001b[0m \u001b[1;36m2\u001b[0m\u001b[1;33m,\u001b[0m \u001b[1;36m3\u001b[0m\u001b[1;33m)\u001b[0m\u001b[1;33m\u001b[0m\u001b[0m\n\u001b[1;32m----> 8\u001b[1;33m \u001b[0mmytuple\u001b[0m\u001b[1;33m[\u001b[0m\u001b[1;36m0\u001b[0m\u001b[1;33m]\u001b[0m \u001b[1;33m=\u001b[0m \u001b[1;36m999\u001b[0m \u001b[1;31m# raises a TypeError exception\u001b[0m\u001b[1;33m\u001b[0m\u001b[0m\n\u001b[0m",
      "\u001b[1;31mTypeError\u001b[0m: 'tuple' object does not support item assignment"
     ]
    }
   ],
   "source": [
    "# Lists are mutable\n",
    "mylist = [1, 2, 3]\n",
    "mylist[0] = 999\n",
    "print('mylist is:', mylist)\n",
    "\n",
    "# tuples are immutable\n",
    "mytuple = (1, 2, 3)\n",
    "mytuple[0] = 999 # raises a TypeError exception"
   ]
  },
  {
   "cell_type": "code",
   "execution_count": 3,
   "metadata": {
    "collapsed": false
   },
   "outputs": [
    {
     "name": "stdout",
     "output_type": "stream",
     "text": [
      "('a', 'b', 'c', 'd', 'e')\n"
     ]
    }
   ],
   "source": [
    "# important concept: this 'garbage collects' the old variable (frees the memory)and creates a new one:\n",
    "oldtuple = ('a', 'b', 'c')\n",
    "oldtuple = ('a', 'b', 'c', 'd', 'e')\n",
    "print(oldtuple)"
   ]
  }
 ],
 "metadata": {
  "kernelspec": {
   "display_name": "Anaconda (Python 3)",
   "language": "python",
   "name": "anaconda3"
  },
  "language_info": {
   "codemirror_mode": {
    "name": "ipython",
    "version": 3
   },
   "file_extension": ".py",
   "mimetype": "text/x-python",
   "name": "python",
   "nbconvert_exporter": "python",
   "pygments_lexer": "ipython3",
   "version": "3.5.1"
  }
 },
 "nbformat": 4,
 "nbformat_minor": 0
}
